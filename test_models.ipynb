{
 "cells": [
  {
   "cell_type": "code",
   "execution_count": 1,
   "metadata": {},
   "outputs": [],
   "source": [
    "import ir_datasets\n",
    "\n",
    "from system import InformationRetrievalSystem, ImplementedModels\n",
    "from tokenizer import NltkTokenizer, Tokenizer"
   ]
  },
  {
   "cell_type": "code",
   "execution_count": 2,
   "metadata": {},
   "outputs": [
    {
     "name": "stdout",
     "output_type": "stream",
     "text": [
      "Testing Models\n",
      "1\n",
      "current evaluations {'vectorial': {'1': {'accuracy': 0.14285714285714285, 'recall': 0.17857142857142858, 'f1': 0.15873015873015875}}, 'boolean': {}, 'fuzzy': {}}\n",
      "current evaluations {'vectorial': {'1': {'accuracy': 0.14285714285714285, 'recall': 0.17857142857142858, 'f1': 0.15873015873015875}}, 'boolean': {'1': {'accuracy': 0.03110047846889952, 'recall': 0.9285714285714286, 'f1': 0.06018518518518518}}, 'fuzzy': {}}\n",
      "2\n",
      "current evaluations {'vectorial': {'1': {'accuracy': 0.14285714285714285, 'recall': 0.17857142857142858, 'f1': 0.15873015873015875}, '2': {'accuracy': 0.043010752688172046, 'recall': 0.5, 'f1': 0.07920792079207922}}, 'boolean': {'1': {'accuracy': 0.03110047846889952, 'recall': 0.9285714285714286, 'f1': 0.06018518518518518}}, 'fuzzy': {}}\n",
      "current evaluations {'vectorial': {'1': {'accuracy': 0.14285714285714285, 'recall': 0.17857142857142858, 'f1': 0.15873015873015875}, '2': {'accuracy': 0.043010752688172046, 'recall': 0.5, 'f1': 0.07920792079207922}}, 'boolean': {'1': {'accuracy': 0.03110047846889952, 'recall': 0.9285714285714286, 'f1': 0.06018518518518518}, '2': {'accuracy': 0.0267515923566879, 'recall': 0.875, 'f1': 0.05191594561186651}}, 'fuzzy': {}}\n",
      "4\n",
      "current evaluations {'vectorial': {'1': {'accuracy': 0.14285714285714285, 'recall': 0.17857142857142858, 'f1': 0.15873015873015875}, '2': {'accuracy': 0.043010752688172046, 'recall': 0.5, 'f1': 0.07920792079207922}, '4': {'accuracy': 0.0, 'recall': 0.0, 'f1': 0}}, 'boolean': {'1': {'accuracy': 0.03110047846889952, 'recall': 0.9285714285714286, 'f1': 0.06018518518518518}, '2': {'accuracy': 0.0267515923566879, 'recall': 0.875, 'f1': 0.05191594561186651}}, 'fuzzy': {}}\n",
      "current evaluations {'vectorial': {'1': {'accuracy': 0.14285714285714285, 'recall': 0.17857142857142858, 'f1': 0.15873015873015875}, '2': {'accuracy': 0.043010752688172046, 'recall': 0.5, 'f1': 0.07920792079207922}, '4': {'accuracy': 0.0, 'recall': 0.0, 'f1': 0}}, 'boolean': {'1': {'accuracy': 0.03110047846889952, 'recall': 0.9285714285714286, 'f1': 0.06018518518518518}, '2': {'accuracy': 0.0267515923566879, 'recall': 0.875, 'f1': 0.05191594561186651}, '4': {'accuracy': 0.0014992503748125937, 'recall': 0.5, 'f1': 0.0029895366218236174}}, 'fuzzy': {}}\n",
      "8\n",
      "current evaluations {'vectorial': {'1': {'accuracy': 0.14285714285714285, 'recall': 0.17857142857142858, 'f1': 0.15873015873015875}, '2': {'accuracy': 0.043010752688172046, 'recall': 0.5, 'f1': 0.07920792079207922}, '4': {'accuracy': 0.0, 'recall': 0.0, 'f1': 0}, '8': {'accuracy': 0.0, 'recall': 0.0, 'f1': 0}}, 'boolean': {'1': {'accuracy': 0.03110047846889952, 'recall': 0.9285714285714286, 'f1': 0.06018518518518518}, '2': {'accuracy': 0.0267515923566879, 'recall': 0.875, 'f1': 0.05191594561186651}, '4': {'accuracy': 0.0014992503748125937, 'recall': 0.5, 'f1': 0.0029895366218236174}}, 'fuzzy': {}}\n",
      "current evaluations {'vectorial': {'1': {'accuracy': 0.14285714285714285, 'recall': 0.17857142857142858, 'f1': 0.15873015873015875}, '2': {'accuracy': 0.043010752688172046, 'recall': 0.5, 'f1': 0.07920792079207922}, '4': {'accuracy': 0.0, 'recall': 0.0, 'f1': 0}, '8': {'accuracy': 0.0, 'recall': 0.0, 'f1': 0}}, 'boolean': {'1': {'accuracy': 0.03110047846889952, 'recall': 0.9285714285714286, 'f1': 0.06018518518518518}, '2': {'accuracy': 0.0267515923566879, 'recall': 0.875, 'f1': 0.05191594561186651}, '4': {'accuracy': 0.0014992503748125937, 'recall': 0.5, 'f1': 0.0029895366218236174}, '8': {'accuracy': 0.009581881533101045, 'recall': 1.0, 'f1': 0.01898188093183779}}, 'fuzzy': {}}\n",
      "9\n",
      "current evaluations {'vectorial': {'1': {'accuracy': 0.14285714285714285, 'recall': 0.17857142857142858, 'f1': 0.15873015873015875}, '2': {'accuracy': 0.043010752688172046, 'recall': 0.5, 'f1': 0.07920792079207922}, '4': {'accuracy': 0.0, 'recall': 0.0, 'f1': 0}, '8': {'accuracy': 0.0, 'recall': 0.0, 'f1': 0}, '9': {'accuracy': 0.0, 'recall': 0.0, 'f1': 0}}, 'boolean': {'1': {'accuracy': 0.03110047846889952, 'recall': 0.9285714285714286, 'f1': 0.06018518518518518}, '2': {'accuracy': 0.0267515923566879, 'recall': 0.875, 'f1': 0.05191594561186651}, '4': {'accuracy': 0.0014992503748125937, 'recall': 0.5, 'f1': 0.0029895366218236174}, '8': {'accuracy': 0.009581881533101045, 'recall': 1.0, 'f1': 0.01898188093183779}}, 'fuzzy': {}}\n",
      "current evaluations {'vectorial': {'1': {'accuracy': 0.14285714285714285, 'recall': 0.17857142857142858, 'f1': 0.15873015873015875}, '2': {'accuracy': 0.043010752688172046, 'recall': 0.5, 'f1': 0.07920792079207922}, '4': {'accuracy': 0.0, 'recall': 0.0, 'f1': 0}, '8': {'accuracy': 0.0, 'recall': 0.0, 'f1': 0}, '9': {'accuracy': 0.0, 'recall': 0.0, 'f1': 0}}, 'boolean': {'1': {'accuracy': 0.03110047846889952, 'recall': 0.9285714285714286, 'f1': 0.06018518518518518}, '2': {'accuracy': 0.0267515923566879, 'recall': 0.875, 'f1': 0.05191594561186651}, '4': {'accuracy': 0.0014992503748125937, 'recall': 0.5, 'f1': 0.0029895366218236174}, '8': {'accuracy': 0.009581881533101045, 'recall': 1.0, 'f1': 0.01898188093183779}, '9': {'accuracy': 0.0, 'recall': 0.0, 'f1': 0}}, 'fuzzy': {}}\n",
      "10\n",
      "current evaluations {'vectorial': {'1': {'accuracy': 0.14285714285714285, 'recall': 0.17857142857142858, 'f1': 0.15873015873015875}, '2': {'accuracy': 0.043010752688172046, 'recall': 0.5, 'f1': 0.07920792079207922}, '4': {'accuracy': 0.0, 'recall': 0.0, 'f1': 0}, '8': {'accuracy': 0.0, 'recall': 0.0, 'f1': 0}, '9': {'accuracy': 0.0, 'recall': 0.0, 'f1': 0}, '10': {'accuracy': 0.0, 'recall': 0.0, 'f1': 0}}, 'boolean': {'1': {'accuracy': 0.03110047846889952, 'recall': 0.9285714285714286, 'f1': 0.06018518518518518}, '2': {'accuracy': 0.0267515923566879, 'recall': 0.875, 'f1': 0.05191594561186651}, '4': {'accuracy': 0.0014992503748125937, 'recall': 0.5, 'f1': 0.0029895366218236174}, '8': {'accuracy': 0.009581881533101045, 'recall': 1.0, 'f1': 0.01898188093183779}, '9': {'accuracy': 0.0, 'recall': 0.0, 'f1': 0}}, 'fuzzy': {}}\n",
      "current evaluations {'vectorial': {'1': {'accuracy': 0.14285714285714285, 'recall': 0.17857142857142858, 'f1': 0.15873015873015875}, '2': {'accuracy': 0.043010752688172046, 'recall': 0.5, 'f1': 0.07920792079207922}, '4': {'accuracy': 0.0, 'recall': 0.0, 'f1': 0}, '8': {'accuracy': 0.0, 'recall': 0.0, 'f1': 0}, '9': {'accuracy': 0.0, 'recall': 0.0, 'f1': 0}, '10': {'accuracy': 0.0, 'recall': 0.0, 'f1': 0}}, 'boolean': {'1': {'accuracy': 0.03110047846889952, 'recall': 0.9285714285714286, 'f1': 0.06018518518518518}, '2': {'accuracy': 0.0267515923566879, 'recall': 0.875, 'f1': 0.05191594561186651}, '4': {'accuracy': 0.0014992503748125937, 'recall': 0.5, 'f1': 0.0029895366218236174}, '8': {'accuracy': 0.009581881533101045, 'recall': 1.0, 'f1': 0.01898188093183779}, '9': {'accuracy': 0.0, 'recall': 0.0, 'f1': 0}, '10': {'accuracy': 0.002044989775051125, 'recall': 0.25, 'f1': 0.004056795131845842}}, 'fuzzy': {}}\n",
      "12\n",
      "current evaluations {'vectorial': {'1': {'accuracy': 0.14285714285714285, 'recall': 0.17857142857142858, 'f1': 0.15873015873015875}, '2': {'accuracy': 0.043010752688172046, 'recall': 0.5, 'f1': 0.07920792079207922}, '4': {'accuracy': 0.0, 'recall': 0.0, 'f1': 0}, '8': {'accuracy': 0.0, 'recall': 0.0, 'f1': 0}, '9': {'accuracy': 0.0, 'recall': 0.0, 'f1': 0}, '10': {'accuracy': 0.0, 'recall': 0.0, 'f1': 0}, '12': {'accuracy': 0.0, 'recall': 0.0, 'f1': 0}}, 'boolean': {'1': {'accuracy': 0.03110047846889952, 'recall': 0.9285714285714286, 'f1': 0.06018518518518518}, '2': {'accuracy': 0.0267515923566879, 'recall': 0.875, 'f1': 0.05191594561186651}, '4': {'accuracy': 0.0014992503748125937, 'recall': 0.5, 'f1': 0.0029895366218236174}, '8': {'accuracy': 0.009581881533101045, 'recall': 1.0, 'f1': 0.01898188093183779}, '9': {'accuracy': 0.0, 'recall': 0.0, 'f1': 0}, '10': {'accuracy': 0.002044989775051125, 'recall': 0.25, 'f1': 0.004056795131845842}}, 'fuzzy': {}}\n",
      "current evaluations {'vectorial': {'1': {'accuracy': 0.14285714285714285, 'recall': 0.17857142857142858, 'f1': 0.15873015873015875}, '2': {'accuracy': 0.043010752688172046, 'recall': 0.5, 'f1': 0.07920792079207922}, '4': {'accuracy': 0.0, 'recall': 0.0, 'f1': 0}, '8': {'accuracy': 0.0, 'recall': 0.0, 'f1': 0}, '9': {'accuracy': 0.0, 'recall': 0.0, 'f1': 0}, '10': {'accuracy': 0.0, 'recall': 0.0, 'f1': 0}, '12': {'accuracy': 0.0, 'recall': 0.0, 'f1': 0}}, 'boolean': {'1': {'accuracy': 0.03110047846889952, 'recall': 0.9285714285714286, 'f1': 0.06018518518518518}, '2': {'accuracy': 0.0267515923566879, 'recall': 0.875, 'f1': 0.05191594561186651}, '4': {'accuracy': 0.0014992503748125937, 'recall': 0.5, 'f1': 0.0029895366218236174}, '8': {'accuracy': 0.009581881533101045, 'recall': 1.0, 'f1': 0.01898188093183779}, '9': {'accuracy': 0.0, 'recall': 0.0, 'f1': 0}, '10': {'accuracy': 0.002044989775051125, 'recall': 0.25, 'f1': 0.004056795131845842}, '12': {'accuracy': 0.0037418147801683817, 'recall': 0.8, 'f1': 0.0074487895716946004}}, 'fuzzy': {}}\n",
      "13\n",
      "current evaluations {'vectorial': {'1': {'accuracy': 0.14285714285714285, 'recall': 0.17857142857142858, 'f1': 0.15873015873015875}, '2': {'accuracy': 0.043010752688172046, 'recall': 0.5, 'f1': 0.07920792079207922}, '4': {'accuracy': 0.0, 'recall': 0.0, 'f1': 0}, '8': {'accuracy': 0.0, 'recall': 0.0, 'f1': 0}, '9': {'accuracy': 0.0, 'recall': 0.0, 'f1': 0}, '10': {'accuracy': 0.0, 'recall': 0.0, 'f1': 0}, '12': {'accuracy': 0.0, 'recall': 0.0, 'f1': 0}, '13': {'accuracy': 0.004273504273504274, 'recall': 0.5, 'f1': 0.008474576271186442}}, 'boolean': {'1': {'accuracy': 0.03110047846889952, 'recall': 0.9285714285714286, 'f1': 0.06018518518518518}, '2': {'accuracy': 0.0267515923566879, 'recall': 0.875, 'f1': 0.05191594561186651}, '4': {'accuracy': 0.0014992503748125937, 'recall': 0.5, 'f1': 0.0029895366218236174}, '8': {'accuracy': 0.009581881533101045, 'recall': 1.0, 'f1': 0.01898188093183779}, '9': {'accuracy': 0.0, 'recall': 0.0, 'f1': 0}, '10': {'accuracy': 0.002044989775051125, 'recall': 0.25, 'f1': 0.004056795131845842}, '12': {'accuracy': 0.0037418147801683817, 'recall': 0.8, 'f1': 0.0074487895716946004}}, 'fuzzy': {}}\n",
      "current evaluations {'vectorial': {'1': {'accuracy': 0.14285714285714285, 'recall': 0.17857142857142858, 'f1': 0.15873015873015875}, '2': {'accuracy': 0.043010752688172046, 'recall': 0.5, 'f1': 0.07920792079207922}, '4': {'accuracy': 0.0, 'recall': 0.0, 'f1': 0}, '8': {'accuracy': 0.0, 'recall': 0.0, 'f1': 0}, '9': {'accuracy': 0.0, 'recall': 0.0, 'f1': 0}, '10': {'accuracy': 0.0, 'recall': 0.0, 'f1': 0}, '12': {'accuracy': 0.0, 'recall': 0.0, 'f1': 0}, '13': {'accuracy': 0.004273504273504274, 'recall': 0.5, 'f1': 0.008474576271186442}}, 'boolean': {'1': {'accuracy': 0.03110047846889952, 'recall': 0.9285714285714286, 'f1': 0.06018518518518518}, '2': {'accuracy': 0.0267515923566879, 'recall': 0.875, 'f1': 0.05191594561186651}, '4': {'accuracy': 0.0014992503748125937, 'recall': 0.5, 'f1': 0.0029895366218236174}, '8': {'accuracy': 0.009581881533101045, 'recall': 1.0, 'f1': 0.01898188093183779}, '9': {'accuracy': 0.0, 'recall': 0.0, 'f1': 0}, '10': {'accuracy': 0.002044989775051125, 'recall': 0.25, 'f1': 0.004056795131845842}, '12': {'accuracy': 0.0037418147801683817, 'recall': 0.8, 'f1': 0.0074487895716946004}, '13': {'accuracy': 0.002471169686985173, 'recall': 0.75, 'f1': 0.0049261083743842365}}, 'fuzzy': {}}\n",
      "15\n",
      "current evaluations {'vectorial': {'1': {'accuracy': 0.14285714285714285, 'recall': 0.17857142857142858, 'f1': 0.15873015873015875}, '2': {'accuracy': 0.043010752688172046, 'recall': 0.5, 'f1': 0.07920792079207922}, '4': {'accuracy': 0.0, 'recall': 0.0, 'f1': 0}, '8': {'accuracy': 0.0, 'recall': 0.0, 'f1': 0}, '9': {'accuracy': 0.0, 'recall': 0.0, 'f1': 0}, '10': {'accuracy': 0.0, 'recall': 0.0, 'f1': 0}, '12': {'accuracy': 0.0, 'recall': 0.0, 'f1': 0}, '13': {'accuracy': 0.004273504273504274, 'recall': 0.5, 'f1': 0.008474576271186442}, '15': {'accuracy': 0.0, 'recall': 0.0, 'f1': 0}}, 'boolean': {'1': {'accuracy': 0.03110047846889952, 'recall': 0.9285714285714286, 'f1': 0.06018518518518518}, '2': {'accuracy': 0.0267515923566879, 'recall': 0.875, 'f1': 0.05191594561186651}, '4': {'accuracy': 0.0014992503748125937, 'recall': 0.5, 'f1': 0.0029895366218236174}, '8': {'accuracy': 0.009581881533101045, 'recall': 1.0, 'f1': 0.01898188093183779}, '9': {'accuracy': 0.0, 'recall': 0.0, 'f1': 0}, '10': {'accuracy': 0.002044989775051125, 'recall': 0.25, 'f1': 0.004056795131845842}, '12': {'accuracy': 0.0037418147801683817, 'recall': 0.8, 'f1': 0.0074487895716946004}, '13': {'accuracy': 0.002471169686985173, 'recall': 0.75, 'f1': 0.0049261083743842365}}, 'fuzzy': {}}\n",
      "current evaluations {'vectorial': {'1': {'accuracy': 0.14285714285714285, 'recall': 0.17857142857142858, 'f1': 0.15873015873015875}, '2': {'accuracy': 0.043010752688172046, 'recall': 0.5, 'f1': 0.07920792079207922}, '4': {'accuracy': 0.0, 'recall': 0.0, 'f1': 0}, '8': {'accuracy': 0.0, 'recall': 0.0, 'f1': 0}, '9': {'accuracy': 0.0, 'recall': 0.0, 'f1': 0}, '10': {'accuracy': 0.0, 'recall': 0.0, 'f1': 0}, '12': {'accuracy': 0.0, 'recall': 0.0, 'f1': 0}, '13': {'accuracy': 0.004273504273504274, 'recall': 0.5, 'f1': 0.008474576271186442}, '15': {'accuracy': 0.0, 'recall': 0.0, 'f1': 0}}, 'boolean': {'1': {'accuracy': 0.03110047846889952, 'recall': 0.9285714285714286, 'f1': 0.06018518518518518}, '2': {'accuracy': 0.0267515923566879, 'recall': 0.875, 'f1': 0.05191594561186651}, '4': {'accuracy': 0.0014992503748125937, 'recall': 0.5, 'f1': 0.0029895366218236174}, '8': {'accuracy': 0.009581881533101045, 'recall': 1.0, 'f1': 0.01898188093183779}, '9': {'accuracy': 0.0, 'recall': 0.0, 'f1': 0}, '10': {'accuracy': 0.002044989775051125, 'recall': 0.25, 'f1': 0.004056795131845842}, '12': {'accuracy': 0.0037418147801683817, 'recall': 0.8, 'f1': 0.0074487895716946004}, '13': {'accuracy': 0.002471169686985173, 'recall': 0.75, 'f1': 0.0049261083743842365}, '15': {'accuracy': 0.001968503937007874, 'recall': 1.0, 'f1': 0.003929273084479371}}, 'fuzzy': {}}\n",
      "18\n",
      "current evaluations {'vectorial': {'1': {'accuracy': 0.14285714285714285, 'recall': 0.17857142857142858, 'f1': 0.15873015873015875}, '2': {'accuracy': 0.043010752688172046, 'recall': 0.5, 'f1': 0.07920792079207922}, '4': {'accuracy': 0.0, 'recall': 0.0, 'f1': 0}, '8': {'accuracy': 0.0, 'recall': 0.0, 'f1': 0}, '9': {'accuracy': 0.0, 'recall': 0.0, 'f1': 0}, '10': {'accuracy': 0.0, 'recall': 0.0, 'f1': 0}, '12': {'accuracy': 0.0, 'recall': 0.0, 'f1': 0}, '13': {'accuracy': 0.004273504273504274, 'recall': 0.5, 'f1': 0.008474576271186442}, '15': {'accuracy': 0.0, 'recall': 0.0, 'f1': 0}, '18': {'accuracy': 0.0, 'recall': 0.0, 'f1': 0}}, 'boolean': {'1': {'accuracy': 0.03110047846889952, 'recall': 0.9285714285714286, 'f1': 0.06018518518518518}, '2': {'accuracy': 0.0267515923566879, 'recall': 0.875, 'f1': 0.05191594561186651}, '4': {'accuracy': 0.0014992503748125937, 'recall': 0.5, 'f1': 0.0029895366218236174}, '8': {'accuracy': 0.009581881533101045, 'recall': 1.0, 'f1': 0.01898188093183779}, '9': {'accuracy': 0.0, 'recall': 0.0, 'f1': 0}, '10': {'accuracy': 0.002044989775051125, 'recall': 0.25, 'f1': 0.004056795131845842}, '12': {'accuracy': 0.0037418147801683817, 'recall': 0.8, 'f1': 0.0074487895716946004}, '13': {'accuracy': 0.002471169686985173, 'recall': 0.75, 'f1': 0.0049261083743842365}, '15': {'accuracy': 0.001968503937007874, 'recall': 1.0, 'f1': 0.003929273084479371}}, 'fuzzy': {}}\n",
      "current evaluations {'vectorial': {'1': {'accuracy': 0.14285714285714285, 'recall': 0.17857142857142858, 'f1': 0.15873015873015875}, '2': {'accuracy': 0.043010752688172046, 'recall': 0.5, 'f1': 0.07920792079207922}, '4': {'accuracy': 0.0, 'recall': 0.0, 'f1': 0}, '8': {'accuracy': 0.0, 'recall': 0.0, 'f1': 0}, '9': {'accuracy': 0.0, 'recall': 0.0, 'f1': 0}, '10': {'accuracy': 0.0, 'recall': 0.0, 'f1': 0}, '12': {'accuracy': 0.0, 'recall': 0.0, 'f1': 0}, '13': {'accuracy': 0.004273504273504274, 'recall': 0.5, 'f1': 0.008474576271186442}, '15': {'accuracy': 0.0, 'recall': 0.0, 'f1': 0}, '18': {'accuracy': 0.0, 'recall': 0.0, 'f1': 0}}, 'boolean': {'1': {'accuracy': 0.03110047846889952, 'recall': 0.9285714285714286, 'f1': 0.06018518518518518}, '2': {'accuracy': 0.0267515923566879, 'recall': 0.875, 'f1': 0.05191594561186651}, '4': {'accuracy': 0.0014992503748125937, 'recall': 0.5, 'f1': 0.0029895366218236174}, '8': {'accuracy': 0.009581881533101045, 'recall': 1.0, 'f1': 0.01898188093183779}, '9': {'accuracy': 0.0, 'recall': 0.0, 'f1': 0}, '10': {'accuracy': 0.002044989775051125, 'recall': 0.25, 'f1': 0.004056795131845842}, '12': {'accuracy': 0.0037418147801683817, 'recall': 0.8, 'f1': 0.0074487895716946004}, '13': {'accuracy': 0.002471169686985173, 'recall': 0.75, 'f1': 0.0049261083743842365}, '15': {'accuracy': 0.001968503937007874, 'recall': 1.0, 'f1': 0.003929273084479371}, '18': {'accuracy': 0.0030534351145038168, 'recall': 0.6666666666666666, 'f1': 0.0060790273556231}}, 'fuzzy': {}}\n"
     ]
    }
   ],
   "source": [
    "tokenizer = NltkTokenizer('english')\n",
    "cranfield = ir_datasets.load('cranfield')\n",
    "queries = cranfield.queries_iter()\n",
    "sri = InformationRetrievalSystem(tokenizer=tokenizer)\n",
    "evaluations = sri.test_ir_dataset('cranfield', [ImplementedModels.VECTORIAL, ImplementedModels.BOOLEAN], 10)"
   ]
  },
  {
   "cell_type": "code",
   "execution_count": 3,
   "metadata": {},
   "outputs": [],
   "source": [
    "\n",
    "# from evaluation_measures import f1, accuracy, analyze_query, detect_true_positive, recall\n",
    "\n",
    "# # print(q)\n",
    "# two_queries = []\n",
    "# count = 0\n",
    "# for q in cranfield.queries_iter():\n",
    "#     two_queries.append(q)\n",
    "#     count+=1\n",
    "#     if count == 1:\n",
    "#         break\n",
    "\n",
    "# res = { q.query_id:sri.process_query_with_fuzzy_model(q.text) for q in two_queries}\n",
    "# # analyze_query(res)\n",
    "# # print(f1(\"1\",res[\"1\"]))"
   ]
  },
  {
   "cell_type": "code",
   "execution_count": 4,
   "metadata": {},
   "outputs": [],
   "source": [
    "# for q in cranfield.queries_iter():\n",
    "#     print(q)\n",
    "#     sri.process_query_with_boolean_model(q.text)\n",
    "#     # break"
   ]
  },
  {
   "cell_type": "code",
   "execution_count": 5,
   "metadata": {},
   "outputs": [
    {
     "name": "stdout",
     "output_type": "stream",
     "text": [
      "{'vectorial': {'1': {'accuracy': 0.14285714285714285, 'recall': 0.17857142857142858, 'f1': 0.15873015873015875}, '2': {'accuracy': 0.043010752688172046, 'recall': 0.5, 'f1': 0.07920792079207922}, '4': {'accuracy': 0.0, 'recall': 0.0, 'f1': 0}, '8': {'accuracy': 0.0, 'recall': 0.0, 'f1': 0}, '9': {'accuracy': 0.0, 'recall': 0.0, 'f1': 0}, '10': {'accuracy': 0.0, 'recall': 0.0, 'f1': 0}, '12': {'accuracy': 0.0, 'recall': 0.0, 'f1': 0}, '13': {'accuracy': 0.004273504273504274, 'recall': 0.5, 'f1': 0.008474576271186442}, '15': {'accuracy': 0.0, 'recall': 0.0, 'f1': 0}, '18': {'accuracy': 0.0, 'recall': 0.0, 'f1': 0}}, 'boolean': {'1': {'accuracy': 0.03110047846889952, 'recall': 0.9285714285714286, 'f1': 0.06018518518518518}, '2': {'accuracy': 0.0267515923566879, 'recall': 0.875, 'f1': 0.05191594561186651}, '4': {'accuracy': 0.0014992503748125937, 'recall': 0.5, 'f1': 0.0029895366218236174}, '8': {'accuracy': 0.009581881533101045, 'recall': 1.0, 'f1': 0.01898188093183779}, '9': {'accuracy': 0.0, 'recall': 0.0, 'f1': 0}, '10': {'accuracy': 0.002044989775051125, 'recall': 0.25, 'f1': 0.004056795131845842}, '12': {'accuracy': 0.0037418147801683817, 'recall': 0.8, 'f1': 0.0074487895716946004}, '13': {'accuracy': 0.002471169686985173, 'recall': 0.75, 'f1': 0.0049261083743842365}, '15': {'accuracy': 0.001968503937007874, 'recall': 1.0, 'f1': 0.003929273084479371}, '18': {'accuracy': 0.0030534351145038168, 'recall': 0.6666666666666666, 'f1': 0.0060790273556231}}, 'fuzzy': {}}\n"
     ]
    }
   ],
   "source": [
    "print(evaluations)"
   ]
  },
  {
   "cell_type": "code",
   "execution_count": null,
   "metadata": {},
   "outputs": [],
   "source": []
  }
 ],
 "metadata": {
  "kernelspec": {
   "display_name": "Python 3.9.7 ('base')",
   "language": "python",
   "name": "python3"
  },
  "language_info": {
   "codemirror_mode": {
    "name": "ipython",
    "version": 3
   },
   "file_extension": ".py",
   "mimetype": "text/x-python",
   "name": "python",
   "nbconvert_exporter": "python",
   "pygments_lexer": "ipython3",
   "version": "3.9.7"
  },
  "orig_nbformat": 4,
  "vscode": {
   "interpreter": {
    "hash": "588779d6ef7e6f81e2169a879779fc8e5995f47f76c0b461de7632fa84667fbc"
   }
  }
 },
 "nbformat": 4,
 "nbformat_minor": 2
}
